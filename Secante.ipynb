{
  "nbformat": 4,
  "nbformat_minor": 0,
  "metadata": {
    "colab": {
      "provenance": [],
      "authorship_tag": "ABX9TyMTE7e+Ch3HkrXF6BI0W9h5",
      "include_colab_link": true
    },
    "kernelspec": {
      "name": "python3",
      "display_name": "Python 3"
    },
    "language_info": {
      "name": "python"
    }
  },
  "cells": [
    {
      "cell_type": "markdown",
      "metadata": {
        "id": "view-in-github",
        "colab_type": "text"
      },
      "source": [
        "<a href=\"https://colab.research.google.com/github/Charlie021/Optimizacion/blob/main/Secante.ipynb\" target=\"_parent\"><img src=\"https://colab.research.google.com/assets/colab-badge.svg\" alt=\"Open In Colab\"/></a>"
      ]
    },
    {
      "cell_type": "code",
      "execution_count": null,
      "metadata": {
        "id": "jYv3pFDvR6xw"
      },
      "outputs": [],
      "source": [
        "%matplotlib inline\n",
        "\n",
        "import matplotlib.pyplot as plt\n",
        "import numpy as np\n",
        "import sympy"
      ]
    },
    {
      "cell_type": "code",
      "source": [
        "def GraficarFuncionObjetivo():\n",
        "    a, b = -5, 5\n",
        "    \n",
        "    T = np.linspace(a, b, 100)\n",
        "    U = (T*T+T)*np.cos(2*T)+T*T\n",
        "\n",
        "    plt.figure(figsize=(6, 3))\n",
        "    plt.plot(T, U, 'b')\n",
        "    plt.plot(-0.2069104783, -0.1074352035, 'ko')\n",
        "    plt.annotate(r'$-0.2069104783, -0.1074352035', (-0.2069104783, -0.1074352035), (0, -0.1074352035))\n",
        "\n",
        "    plt.xlabel(\"Temperatura\")\n",
        "    plt.ylabel(\"Costo\")\n",
        "    plt.grid()\n",
        "    plt.show()\n",
        "    \n",
        "    return None"
      ],
      "metadata": {
        "id": "Pw7vDrQcR9jF"
      },
      "execution_count": null,
      "outputs": []
    },
    {
      "cell_type": "code",
      "source": [
        "GraficarFuncionObjetivo()"
      ],
      "metadata": {
        "colab": {
          "base_uri": "https://localhost:8080/",
          "height": 225
        },
        "id": "gEgK-D2-R9l4",
        "outputId": "d3fcc7dc-f51f-4bfe-cfdb-b9d308f1c604"
      },
      "execution_count": null,
      "outputs": [
        {
          "output_type": "display_data",
          "data": {
            "text/plain": [
              "<Figure size 432x216 with 1 Axes>"
            ],
            "image/png": "[encoded data removed]"
          },
          "metadata": {
            "needs_background": "light"
          }
        }
      ]
    },
    {
      "cell_type": "code",
      "source": [
        "def CalcularGradiente():\n",
        "    T = sympy.Symbol('T')\n",
        "    fU = (T*T+T)*sympy.cos(2*T)+T*T\n",
        "\n",
        "    d1fU = sympy.diff(fU)\n",
        "\n",
        "    print(fU)\n",
        "    print(d1fU)\n",
        "\n",
        "    return None"
      ],
      "metadata": {
        "id": "bTAahp9ER9pd"
      },
      "execution_count": null,
      "outputs": []
    },
    {
      "cell_type": "code",
      "source": [
        "CalcularGradiente()"
      ],
      "metadata": {
        "colab": {
          "base_uri": "https://localhost:8080/"
        },
        "id": "bgZ7ZT-tR9s3",
        "outputId": "78a750a3-c559-4e51-c99d-7550db4d9bf5"
      },
      "execution_count": null,
      "outputs": [
        {
          "output_type": "stream",
          "name": "stdout",
          "text": [
            "T**2 + (T**2 + T)*cos(2*T)\n",
            "2*T + (2*T + 1)*cos(2*T) - 2*(T**2 + T)*sin(2*T)\n"
          ]
        }
      ]
    },
    {
      "cell_type": "code",
      "source": [
        "# Funcion objetivo\n",
        "def U(T):\n",
        "    return T**2 + (T**2 + T)*np.cos(2*T)"
      ],
      "metadata": {
        "id": "UyT-86gFR9wE"
      },
      "execution_count": null,
      "outputs": []
    },
    {
      "cell_type": "code",
      "source": [
        "# Primera derivada\n",
        "def d1U(T):\n",
        "    return 2*T + (2*T + 1)*np.cos(2*T) - 2*(T**2 + T)*np.sin(2*T)"
      ],
      "metadata": {
        "id": "bNd1okBhR9_b"
      },
      "execution_count": null,
      "outputs": []
    },
    {
      "cell_type": "code",
      "source": [
        "def Secante():\n",
        "    a, b = -5,5\n",
        "    epsilon = 0.01\n",
        "    \n",
        "    cont = 0\n",
        "    registro = []\n",
        "    \n",
        "    while True:\n",
        "        # calcular f'(a)\n",
        "        dU_a = d1U(a)\n",
        "        \n",
        "        # calcular f'(b\n",
        "        dU_b= d1U(b)\n",
        "        \n",
        "        # calcular alpha\n",
        "        alpha = b - dU_b / ((dU_b - dU_a)/(b - a))\n",
        "        \n",
        "        dU_alpha = d1U(alpha)\n",
        "        \n",
        "        if dU_alpha > 0:\n",
        "            b = alpha\n",
        "        else:\n",
        "            a = alpha\n",
        "            \n",
        "        U_alpha = U(alpha)\n",
        "        \n",
        "        cont = cont + 1\n",
        "        \n",
        "        registro.append([cont, alpha, U_alpha])\n",
        "        print(\"It: {:02d} - Temp: {:.10f} - Costo: {:.10f}\".format(cont, alpha, U_alpha))\n",
        "        \n",
        "        if np.abs(dU_alpha) <= epsilon:\n",
        "            print(\"------------------------------------------------------------------------\")\n",
        "            print(\"It: {:02d} - Temp: {:.10f} - Costo: {:.10f}\".format(cont, alpha, U_alpha))\n",
        "            break\n",
        "            \n",
        "    return registro"
      ],
      "metadata": {
        "id": "lnG-VmFCj6F-"
      },
      "execution_count": null,
      "outputs": []
    },
    {
      "cell_type": "code",
      "source": [
        "reg = Secante()"
      ],
      "metadata": {
        "colab": {
          "base_uri": "https://localhost:8080/"
        },
        "id": "tka7e4ANj6SH",
        "outputId": "7a2efb56-f2a8-4c68-b7c5-6b20d720cf65"
      },
      "execution_count": null,
      "outputs": [
        {
          "output_type": "stream",
          "name": "stdout",
          "text": [
            "It: 01 - Temp: -0.7985222561 - Costo: 0.6418602338\n",
            "It: 02 - Temp: -0.4860507346 - Costo: 0.0954637731\n",
            "It: 03 - Temp: -0.2700992836 - Costo: -0.0961197915\n",
            "It: 04 - Temp: -0.2156725615 - Costo: -0.1071490975\n",
            "It: 05 - Temp: -0.2069104783 - Costo: -0.1074352035\n",
            "------------------------------------------------------------------------\n",
            "It: 05 - Temp: -0.2069104783 - Costo: -0.1074352035\n"
          ]
        }
      ]
    },
    {
      "cell_type": "code",
      "source": [
        "def Evaluacion(reg):\n",
        "    reg1 = np.array(reg)\n",
        "    fig, axs = plt.subplots(1,2, figsize=(15, 4))\n",
        "\n",
        "    fig.suptitle('Convergencia')\n",
        "\n",
        "    axs[0].axhline(55.08, color='k' , linewidth=3, linestyle='--')\n",
        "    axs[0].plot(reg1[:, 0], reg1[:,1], linewidth=4)\n",
        "    axs[0].set_xlabel('Iteraciones')\n",
        "    axs[0].set_ylabel('Temperatura')\n",
        "    axs[0].grid()\n",
        "    axs[0].set_xlim([0, 15])\n",
        "\n",
        "    axs[1].axhline(1225.17, color='k' , linewidth=3, linestyle='--')\n",
        "    axs[1].plot(reg1[:, 0], reg1[:,2], linewidth=4)\n",
        "    axs[1].set_xlabel('Iteraciones')\n",
        "    axs[1].set_ylabel('Costo')\n",
        "    axs[1].grid()\n",
        "    axs[1].set_xlim([0, 15])\n",
        "\n",
        "    plt.show()\n",
        "    \n",
        "    return None"
      ],
      "metadata": {
        "id": "qcufydLMkLiH"
      },
      "execution_count": null,
      "outputs": []
    },
    {
      "cell_type": "code",
      "source": [
        "Evaluacion(reg)"
      ],
      "metadata": {
        "colab": {
          "base_uri": "https://localhost:8080/",
          "height": 308
        },
        "id": "k5wTZzUWkLpm",
        "outputId": "c9cab268-964f-47fa-c4a0-5883f314a70e"
      },
      "execution_count": null,
      "outputs": [
        {
          "output_type": "display_data",
          "data": {
            "text/plain": [
              "<Figure size 1080x288 with 2 Axes>"
            ],
            "image/png": "[encoded data removed]"
          },
          "metadata": {
            "needs_background": "light"
          }
        }
      ]
    }
  ]
}