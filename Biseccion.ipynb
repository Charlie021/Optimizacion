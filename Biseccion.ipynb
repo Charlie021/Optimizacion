{
  "cells": [
    {
      "cell_type": "markdown",
      "metadata": {
        "id": "view-in-github",
        "colab_type": "text"
      },
      "source": [
        "<a href=\"https://colab.research.google.com/github/Charlie021/Optimizacion/blob/main/Biseccion.ipynb\" target=\"_parent\"><img src=\"https://colab.research.google.com/assets/colab-badge.svg\" alt=\"Open In Colab\"/></a>"
      ]
    },
    {
      "cell_type": "code",
      "execution_count": null,
      "metadata": {
        "colab": {
          "base_uri": "https://localhost:8080/",
          "height": 279
        },
        "id": "IAoIbFbphA7i",
        "outputId": "9222521f-69a0-48f6-8d6f-9c500fbd0daa"
      },
      "outputs": [
        {
          "output_type": "display_data",
          "data": {
            "text/plain": [
              "<Figure size 432x288 with 1 Axes>"
            ],
            "image/png": "[encoded data removed]"
          },
          "metadata": {
            "needs_background": "light"
          }
        }
      ],
      "source": [
        "%matplotlib inline\n",
        "import matplotlib.pyplot as plt\n",
        "import numpy as np\n",
        "import math\n",
        "\n",
        "a=-5\n",
        "b=5\n",
        "T=np.linspace(a,b,100)\n",
        "U=(T*T+T)*np.cos(2*T)+T*T\n",
        "\n",
        "plt.figure()\n",
        "plt.plot(T,U,'k')\n",
        "plt.xlabel('Temperatura')\n",
        "plt.ylabel('Costo')\n",
        "plt.grid()\n",
        "plt.show()"
      ]
    },
    {
      "cell_type": "code",
      "source": [
        "import sympy\n",
        "\n",
        "def calcularGradiente():\n",
        "  T=sympy.Symbol('T')\n",
        "  fU=((T*T+T)*(sympy.cos(2*T)))+T*T\n",
        "  d1fU=sympy.diff(fU)\n",
        "  print(fU)\n",
        "  print(d1fU)\n",
        "  return None\n",
        "\n",
        "calcularGradiente()"
      ],
      "metadata": {
        "id": "xecHhFMlNkPj",
        "colab": {
          "base_uri": "https://localhost:8080/"
        },
        "outputId": "0c3d3cf1-572b-4ee2-9b61-d0c19ccac110"
      },
      "execution_count": null,
      "outputs": [
        {
          "output_type": "stream",
          "name": "stdout",
          "text": [
            "T**2 + (T**2 + T)*cos(2*T)\n",
            "2*T + (2*T + 1)*cos(2*T) - 2*(T**2 + T)*sin(2*T)\n"
          ]
        }
      ]
    },
    {
      "cell_type": "code",
      "source": [
        "def U(T):\n",
        "  return (T*T+T)*np.cos(2*T)+T*T"
      ],
      "metadata": {
        "id": "PMEMmWBSORP2"
      },
      "execution_count": null,
      "outputs": []
    },
    {
      "cell_type": "code",
      "source": [
        "def d1U(T):\n",
        "  return 2*T + (2*T + 1)*np.cos(2*T) - 2*(T**2 + T)*np.sin(2*T)"
      ],
      "metadata": {
        "id": "0ycGtOcsORZ4"
      },
      "execution_count": null,
      "outputs": []
    },
    {
      "cell_type": "code",
      "source": [
        "def biseccion():\n",
        "  a=-5\n",
        "  b=5\n",
        "  epsilon=0.001\n",
        "  cont=0\n",
        "  registro=[]\n",
        "\n",
        "  while(True):\n",
        "    alpha=(a+b)/2\n",
        "    dU_a=d1U(a) #Primer derivada en a\n",
        "    dU_alpha=d1U(alpha) #Primer derivada en alpha\n",
        "    if(dU_a*dU_alpha<0):\n",
        "      b=alpha\n",
        "    else:\n",
        "      a=alpha\n",
        "    \n",
        "    Ua=U(a)\n",
        "    if(np.abs(a-b)<epsilon):\n",
        "      print('-------------------------------------------')\n",
        "      print(\"it: {:02} - Temp: {:.10f} - Costo: {:.10f}\".format(cont, a, Ua))\n",
        "      break\n",
        "\n",
        "    cont=cont+1\n",
        "    registro.append([cont, a, Ua])\n",
        "    print(\"it: {:02} - Temp: {:.10f} - Costo: {:.10f}\".format(cont, a, Ua))\n",
        "  return registro\n",
        "\n",
        "reg1=biseccion()"
      ],
      "metadata": {
        "colab": {
          "base_uri": "https://localhost:8080/"
        },
        "id": "fZAl0CFYOtCt",
        "outputId": "03203dac-d56d-4e6b-edca-b63b0ef7cf00"
      },
      "execution_count": null,
      "outputs": [
        {
          "output_type": "stream",
          "name": "stdout",
          "text": [
            "it: 01 - Temp: -5.0000000000 - Costo: 8.2185694185\n",
            "it: 02 - Temp: -2.5000000000 - Costo: 7.3137331955\n",
            "it: 03 - Temp: -1.2500000000 - Costo: 1.3121426201\n",
            "it: 04 - Temp: -0.6250000000 - Costo: 0.3167213213\n",
            "it: 05 - Temp: -0.3125000000 - Costo: -0.0765741077\n",
            "it: 06 - Temp: -0.3125000000 - Costo: -0.0765741077\n",
            "it: 07 - Temp: -0.2343750000 - Costo: -0.1051558274\n",
            "it: 08 - Temp: -0.2343750000 - Costo: -0.1051558274\n",
            "it: 09 - Temp: -0.2148437500 - Costo: -0.1071938481\n",
            "it: 10 - Temp: -0.2148437500 - Costo: -0.1071938481\n",
            "it: 11 - Temp: -0.2099609375 - Costo: -0.1073824551\n",
            "it: 12 - Temp: -0.2075195312 - Costo: -0.1074286689\n",
            "it: 13 - Temp: -0.2062988281 - Costo: -0.1074397594\n",
            "-------------------------------------------\n",
            "it: 13 - Temp: -0.2056884766 - Costo: -0.1074423013\n"
          ]
        }
      ]
    },
    {
      "cell_type": "code",
      "source": [
        "def evaluacion(reg):\n",
        "  reg=np.array(reg)\n",
        "  fig, axs=plt.subplots(1, 2, figsize=(15, 6))\n",
        "\n",
        "  fig.suptitle('Analisis de convergencia')\n",
        "  axs[0].axhline(55.08, color='k', linewidth=3, linestyle='--')\n",
        "  axs[0].plot(reg[:,0], reg[:,1], linewidth=4)\n",
        "  axs[0].set_xlabel('Iteracuines')\n",
        "  axs[0].set_ylabel('Temperatura')\n",
        "  axs[0].grid()\n",
        "  axs[0].set_xlim([0,15])\n",
        "  \n",
        "  fig.suptitle('Analisis de convergencia')\n",
        "  axs[1].axhline(1225.17, color='k', linewidth=3, linestyle='--')\n",
        "  axs[1].plot(reg[:,0], reg[:,2], linewidth=4)\n",
        "  axs[1].set_xlabel('Iteracuines')\n",
        "  axs[1].set_ylabel('Costo')\n",
        "  axs[1].grid()\n",
        "  axs[1].set_xlim([0,15])\n",
        "\n",
        "  plt.show()\n",
        "\n",
        "evaluacion(reg1)"
      ],
      "metadata": {
        "colab": {
          "base_uri": "https://localhost:8080/",
          "height": 431
        },
        "id": "mBO5wDtjPA-v",
        "outputId": "397f081d-a974-4680-94cc-cff27f9a99e2"
      },
      "execution_count": null,
      "outputs": [
        {
          "output_type": "display_data",
          "data": {
            "text/plain": [
              "<Figure size 1080x432 with 2 Axes>"
            ],
            "image/png": "[encoded data removed]"
          },
          "metadata": {
            "needs_background": "light"
          }
        }
      ]
    }
  ],
  "metadata": {
    "colab": {
      "provenance": [],
      "authorship_tag": "ABX9TyOC4vis4hgmwzKbtqz5Em8r",
      "include_colab_link": true
    },
    "kernelspec": {
      "display_name": "Python 3",
      "name": "python3"
    },
    "language_info": {
      "name": "python"
    }
  },
  "nbformat": 4,
  "nbformat_minor": 0
}