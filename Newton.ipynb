{
  "nbformat": 4,
  "nbformat_minor": 0,
  "metadata": {
    "colab": {
      "provenance": [],
      "authorship_tag": "ABX9TyOE4a511tWHaD4QgPUbgCo1",
      "include_colab_link": true
    },
    "kernelspec": {
      "name": "python3",
      "display_name": "Python 3"
    },
    "language_info": {
      "name": "python"
    }
  },
  "cells": [
    {
      "cell_type": "markdown",
      "metadata": {
        "id": "view-in-github",
        "colab_type": "text"
      },
      "source": [
        "<a href=\"https://colab.research.google.com/github/Charlie021/Optimizacion/blob/main/Newton.ipynb\" target=\"_parent\"><img src=\"https://colab.research.google.com/assets/colab-badge.svg\" alt=\"Open In Colab\"/></a>"
      ]
    },
    {
      "cell_type": "code",
      "execution_count": null,
      "metadata": {
        "id": "9L8BLNNxT0eF"
      },
      "outputs": [],
      "source": [
        "%matplotlib inline\n",
        "\n",
        "import matplotlib.pyplot as plt\n",
        "import numpy as np\n",
        "import sympy"
      ]
    },
    {
      "cell_type": "code",
      "source": [
        "def plotPuntos(a,b):\n",
        "    T = np.linspace(a, b, 100)\n",
        "    U = (T*T+T)*np.cos(2*T)+T*T\n",
        "    return T, U"
      ],
      "metadata": {
        "id": "JHGZBOlKUg9I"
      },
      "execution_count": null,
      "outputs": []
    },
    {
      "cell_type": "code",
      "source": [
        "def GraficarFuncionObjetivo():\n",
        "    a, b = 40, 90\n",
        "    T, U = plotPuntos(a, b)\n",
        "    \n",
        "    plt.plot(T, U, 'b')\n",
        "    plt.plot(55.08, 1225.17, 'ko')\n",
        "    plt.annotate(r'$55.08, 1225.17$', (55.08, 1225.17), (50, 1250))\n",
        "    \n",
        "    plt.xlabel('Temperatura')\n",
        "    plt.ylabel('Costo')\n",
        "    plt.grid()\n",
        "    plt.show()"
      ],
      "metadata": {
        "id": "a1hsQ-rDUhEu"
      },
      "execution_count": null,
      "outputs": []
    },
    {
      "cell_type": "code",
      "source": [
        "def CalcularGradiente():\n",
        "    T = sympy.Symbol('T')\n",
        "    U = (T*T+T)*sympy.cos(2*T)+T*T\n",
        "    \n",
        "    d1U = sympy.diff(U)\n",
        "    d2U = sympy.diff(d1U)\n",
        "    \n",
        "    print(U)\n",
        "    print(d1U)\n",
        "    print(d2U)"
      ],
      "metadata": {
        "id": "LBlSHoe1UhMa"
      },
      "execution_count": null,
      "outputs": []
    },
    {
      "cell_type": "code",
      "source": [
        "CalcularGradiente()"
      ],
      "metadata": {
        "colab": {
          "base_uri": "https://localhost:8080/"
        },
        "id": "j_T8PFr5VJyL",
        "outputId": "ced02492-310a-48cd-a4fd-47ae82ac4f41"
      },
      "execution_count": null,
      "outputs": [
        {
          "output_type": "stream",
          "name": "stdout",
          "text": [
            "T**2 + (T**2 + T)*cos(2*T)\n",
            "2*T + (2*T + 1)*cos(2*T) - 2*(T**2 + T)*sin(2*T)\n",
            "(-4*T - 2)*sin(2*T) - 2*(2*T + 1)*sin(2*T) + 2*(-2*T**2 - 2*T)*cos(2*T) + 2*cos(2*T) + 2\n"
          ]
        }
      ]
    },
    {
      "cell_type": "code",
      "source": [
        "def U(T):\n",
        "    return T**2 + (T**2 + T)*np.cos(2*T)"
      ],
      "metadata": {
        "id": "HQqmnxjQVJ5L"
      },
      "execution_count": null,
      "outputs": []
    },
    {
      "cell_type": "code",
      "source": [
        "def d1U(T):\n",
        "    return 2*T + (2*T + 1)*np.cos(2*T) - 2*(T**2 + T)*np.sin(2*T)"
      ],
      "metadata": {
        "id": "Ac7W-JYiVKA4"
      },
      "execution_count": null,
      "outputs": []
    },
    {
      "cell_type": "code",
      "source": [
        "def d2U(T):\n",
        "    return (-4*T - 2)*np.sin(2*T) - 2*(2*T + 1)*np.sin(2*T) + 2*(-2*T**2 - 2*T)*np.cos(2*T) + 2*np.cos(2*T) + 2"
      ],
      "metadata": {
        "id": "EdSJA7t0VKHv"
      },
      "execution_count": null,
      "outputs": []
    },
    {
      "cell_type": "code",
      "source": [
        "def NewtonRaphson():\n",
        "    a, b = -5, 5\n",
        "    x = 5\n",
        "    epsilon = 0.001\n",
        "    \n",
        "    cont = 0\n",
        "    registro = []\n",
        "    \n",
        "    while True:\n",
        "        # Calculo de f'(x) y f''(x)\n",
        "        d1U_x = d1U(x)\n",
        "        d2U_x = d2U(x)\n",
        "        \n",
        "        xprev = x\n",
        "        x = xprev - d1U_x/d2U_x\n",
        "        \n",
        "        U_x = U(x)\n",
        "        \n",
        "        cont = cont + 1\n",
        "        registro.append([cont, x, U_x])\n",
        "        \n",
        "        print(\"It: {:02d} - Temp: {:.10f} - Costo: {:.10f}\".format(cont, x, U_x))\n",
        "        \n",
        "        if(np.abs(x - xprev) <= epsilon):\n",
        "            print(\"----------------------------------------------------------------\")\n",
        "            print(\"It: {:02d} - Temp: {:.10f} - Costo: {:.10f}\".format(cont, x, U_x))\n",
        "            break\n",
        "        \n",
        "    return registro"
      ],
      "metadata": {
        "id": "IpETe93VVKMw"
      },
      "execution_count": null,
      "outputs": []
    },
    {
      "cell_type": "code",
      "source": [
        "reg = NewtonRaphson()"
      ],
      "metadata": {
        "colab": {
          "base_uri": "https://localhost:8080/"
        },
        "id": "Yp_bUJTOVYkg",
        "outputId": "6c81691c-37cb-4ea3-90e9-ed26faab478d"
      },
      "execution_count": null,
      "outputs": [
        {
          "output_type": "stream",
          "name": "stdout",
          "text": [
            "It: 01 - Temp: 4.7325955719 - Costo: -4.7104438389\n",
            "It: 02 - Temp: 4.7216918069 - Costo: -4.7170158617\n",
            "It: 03 - Temp: 4.7216269988 - Costo: -4.7170160903\n",
            "----------------------------------------------------------------\n",
            "It: 03 - Temp: 4.7216269988 - Costo: -4.7170160903\n"
          ]
        }
      ]
    },
    {
      "cell_type": "code",
      "source": [
        "def evaluacion(reg):\n",
        "    reg = np.array(reg)\n",
        "    fig, axs = plt.subplots(1, 2, figsize=(15, 6))\n",
        "    \n",
        "    fig.suptitle('Analisis de convergencia')\n",
        "    \n",
        "    axs[0].axhline(55.08, color='k', linewidth=3, linestyle='--')\n",
        "    axs[0].plot(reg[:, 0], reg[:, 1], linewidth=4)\n",
        "    axs[0].set_xlabel('Iteraciones')\n",
        "    axs[0].set_ylabel('Temperatura')\n",
        "    axs[0].grid()\n",
        "    axs[0].set_xlim([0, 15])\n",
        "    \n",
        "    axs[1].axhline(1225.17, color='k', linewidth=3, linestyle='--')\n",
        "    axs[1].plot(reg[:, 0], reg[:, 2], linewidth=4)\n",
        "    axs[1].set_xlabel('Iteraciones')\n",
        "    axs[1].set_ylabel('Costo')\n",
        "    axs[1].grid()\n",
        "    axs[1].set_xlim([0, 15])\n",
        "    \n",
        "    plt.show()"
      ],
      "metadata": {
        "id": "Hmqd0piuVYrO"
      },
      "execution_count": null,
      "outputs": []
    },
    {
      "cell_type": "code",
      "source": [
        "evaluacion(reg)"
      ],
      "metadata": {
        "colab": {
          "base_uri": "https://localhost:8080/",
          "height": 431
        },
        "id": "xYoO4QAtVlLV",
        "outputId": "8d359334-a08c-42c4-f3de-668d84a9d3d9"
      },
      "execution_count": null,
      "outputs": [
        {
          "output_type": "display_data",
          "data": {
            "text/plain": [
              "<Figure size 1080x432 with 2 Axes>"
            ],
            "image/png": "[encoded data removed]"
          },
          "metadata": {
            "needs_background": "light"
          }
        }
      ]
    }
  ]
}