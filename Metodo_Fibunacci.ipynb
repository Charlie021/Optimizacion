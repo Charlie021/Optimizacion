{
  "nbformat": 4,
  "nbformat_minor": 0,
  "metadata": {
    "colab": {
      "provenance": [],
      "authorship_tag": "ABX9TyMP5WT5v08pZYVfds15kG+4",
      "include_colab_link": true
    },
    "kernelspec": {
      "name": "python3",
      "display_name": "Python 3"
    },
    "language_info": {
      "name": "python"
    }
  },
  "cells": [
    {
      "cell_type": "markdown",
      "metadata": {
        "id": "view-in-github",
        "colab_type": "text"
      },
      "source": [
        "<a href=\"https://colab.research.google.com/github/Charlie021/Optimizacion/blob/main/Metodo_Fibunacci.ipynb\" target=\"_parent\"><img src=\"https://colab.research.google.com/assets/colab-badge.svg\" alt=\"Open In Colab\"/></a>"
      ]
    },
    {
      "cell_type": "code",
      "execution_count": null,
      "metadata": {
        "id": "f-rAJH6BSKCn"
      },
      "outputs": [],
      "source": [
        "%matplotlib inline\n",
        "\n",
        "import matplotlib.pyplot as plt\n",
        "import numpy as np"
      ]
    },
    {
      "cell_type": "code",
      "source": [
        "def GraficarFuncionObjetivo():\n",
        "    a,b = 40,90\n",
        "    \n",
        "    T = np.linspace(a, b, 100)\n",
        "    U = (204165.5)/(330 - 2*T) + (10400)/(T - 20)\n",
        "\n",
        "    plt.figure(figsize=(6, 3))\n",
        "    plt.plot(T, U, 'b')\n",
        "    plt.plot(55.08, 1225.17, 'ko')\n",
        "    plt.annotate(r'$55.08, 1225.17$', (55.08, 1225.17), (50, 1250))\n",
        "\n",
        "    plt.xlabel(\"Temperatura\")\n",
        "    plt.ylabel(\"Costo\")\n",
        "    plt.grid()\n",
        "    plt.show()\n",
        "    \n",
        "    return None"
      ],
      "metadata": {
        "id": "c8bZC_8xSN9R"
      },
      "execution_count": null,
      "outputs": []
    },
    {
      "cell_type": "code",
      "source": [
        "def U(T):\n",
        "    return (204165.5)/(330-2*T) + (10400)/(T-20)"
      ],
      "metadata": {
        "id": "mLXQWqH9SODg"
      },
      "execution_count": null,
      "outputs": []
    },
    {
      "cell_type": "code",
      "source": [
        "U(55.08)"
      ],
      "metadata": {
        "colab": {
          "base_uri": "https://localhost:8080/"
        },
        "id": "iyniGj3OSOH6",
        "outputId": "c2758829-4593-442d-a113-beb4857ae97d"
      },
      "execution_count": null,
      "outputs": [
        {
          "output_type": "execute_result",
          "data": {
            "text/plain": [
              "1225.1656408350887"
            ]
          },
          "metadata": {},
          "execution_count": 4
        }
      ]
    },
    {
      "cell_type": "code",
      "source": [
        "def Fibonacci(*params):\n",
        "    a   = params[0]\n",
        "    b   = params[1]\n",
        "    k   = params[2]\n",
        "    it  = params[3]\n",
        "    reg = params[4]\n",
        "    L   = params[5]\n",
        "    n   = params[6]\n",
        "    fs  = params[7]\n",
        "    ep  = params[8]\n",
        "\n",
        "    i_arriba = n - k + 1 \n",
        "    i_abajo = n + 1\n",
        "    Lk = L*fs[i_arriba]/fs[i_abajo]\n",
        "\n",
        "    xa = a + Lk\n",
        "    xb = b - Lk\n",
        "\n",
        "    U_xa = U(xa)\n",
        "    U_xb = U(xb)\n",
        "\n",
        "    if(U_xa > U_xb):\n",
        "        a = xa\n",
        "    else:\n",
        "        b = xb\n",
        "        \n",
        "    if(np.abs(U_xa-U_xb) > ep):\n",
        "        k = k + 1\n",
        "        it = it + 1\n",
        "        \n",
        "        reg.append([it, xa, U_xa])\n",
        "        print(\"It: {:02d} - Temp: {:.10f} - Costo: {:.10f}\".format(it, xa, U_xa))\n",
        "    \n",
        "        return Fibonacci(a, b, k, it, reg, L, n, fs, ep)\n",
        "    else:\n",
        "        print(\"-------------------------------------------------------\")\n",
        "        print(\"It: {:02d} - Temp: {:.10f} - Costo: {:.10f}\".format(it, xa, U_xa))\n",
        "        \n",
        "        return reg"
      ],
      "metadata": {
        "id": "QkPfpxpYSONe"
      },
      "execution_count": null,
      "outputs": []
    },
    {
      "cell_type": "code",
      "source": [
        "def RunFibonacci():\n",
        "    n = 30\n",
        "    \n",
        "    fs = [1, 1]\n",
        "    for i in range(n):\n",
        "        aux = fs[-1] + fs[-2]\n",
        "        fs.append(aux)\n",
        "    \n",
        "    a, b, k = 40, 90, 2\n",
        "    L = b - a\n",
        "    \n",
        "    return Fibonacci(a, b, k, 0, [], b-a, n, fs, 1e-6)"
      ],
      "metadata": {
        "id": "SBPOIvTJSOVY"
      },
      "execution_count": null,
      "outputs": []
    },
    {
      "cell_type": "code",
      "source": [
        "reg = RunFibonacci()"
      ],
      "metadata": {
        "colab": {
          "base_uri": "https://localhost:8080/"
        },
        "id": "4uyqP8scSOYb",
        "outputId": "7c7b6521-a8a4-4ab0-c4ef-8ac19eae67d2"
      },
      "execution_count": null,
      "outputs": [
        {
          "output_type": "stream",
          "name": "stdout",
          "text": [
            "It: 01 - Temp: 59.0983005625 - Costo: 1229.9349491623\n",
            "It: 02 - Temp: 51.8033988750 - Costo: 1228.8272286788\n",
            "It: 03 - Temp: 47.2949016875 - Costo: 1248.2990546850\n",
            "It: 04 - Temp: 51.8033988750 - Costo: 1228.8272286788\n",
            "It: 05 - Temp: 54.5898033750 - Costo: 1225.2438371362\n",
            "It: 06 - Temp: 53.5254915625 - Costo: 1225.9614290233\n",
            "It: 07 - Temp: 54.5898033750 - Costo: 1225.2438371362\n",
            "It: 08 - Temp: 55.2475842500 - Costo: 1225.1741606876\n",
            "It: 09 - Temp: 54.9963343125 - Costo: 1225.1680564661\n",
            "It: 10 - Temp: 54.8410533125 - Costo: 1225.1844049120\n",
            "It: 11 - Temp: 54.9963343125 - Costo: 1225.1680564661\n",
            "It: 12 - Temp: 55.0923032499 - Costo: 1225.1656613366\n",
            "It: 13 - Temp: 55.0556463752 - Costo: 1225.1658840054\n",
            "It: 14 - Temp: 55.0923032499 - Costo: 1225.1656613366\n",
            "It: 15 - Temp: 55.0783015633 - Costo: 1225.1656455603\n",
            "It: 16 - Temp: 55.0696480619 - Costo: 1225.1656981083\n",
            "It: 17 - Temp: 55.0783015633 - Costo: 1225.1656455603\n",
            "It: 18 - Temp: 55.0836497485 - Costo: 1225.1656368837\n",
            "It: 19 - Temp: 55.0816068795 - Costo: 1225.1656380524\n",
            "-------------------------------------------------------\n",
            "It: 19 - Temp: 55.0836497485 - Costo: 1225.1656368837\n"
          ]
        }
      ]
    },
    {
      "cell_type": "code",
      "source": [
        "def Evaluacion(reg):\n",
        "    reg1 = np.array(reg)\n",
        "    fig, axs = plt.subplots(1,2, figsize=(15, 4))\n",
        "\n",
        "    fig.suptitle('Convergencia')\n",
        "\n",
        "    axs[0].axhline(55.08, color='k' , linewidth=3, linestyle='--')\n",
        "    axs[0].plot(reg1[:, 0], reg1[:,1], linewidth=4)\n",
        "    axs[0].set_xlabel('Iteraciones')\n",
        "    axs[0].set_ylabel('Temperatura')\n",
        "    axs[0].grid()\n",
        "    axs[0].set_xlim([0, 15])\n",
        "\n",
        "    axs[1].axhline(1225.17, color='k' , linewidth=3, linestyle='--')\n",
        "    axs[1].plot(reg1[:, 0], reg1[:,2], linewidth=4)\n",
        "    axs[1].set_xlabel('Iteraciones')\n",
        "    axs[1].set_ylabel('Costo')\n",
        "    axs[1].grid()\n",
        "    axs[1].set_xlim([0, 15])\n",
        "\n",
        "    plt.show()\n",
        "    \n",
        "    return None"
      ],
      "metadata": {
        "id": "lK0JMiz2SOeu"
      },
      "execution_count": null,
      "outputs": []
    },
    {
      "cell_type": "code",
      "source": [
        "Evaluacion(reg)"
      ],
      "metadata": {
        "colab": {
          "base_uri": "https://localhost:8080/",
          "height": 308
        },
        "id": "f48SBKhWSOi4",
        "outputId": "938329f0-db2a-4b5d-defd-2a5679f9ef4c"
      },
      "execution_count": null,
      "outputs": [
        {
          "output_type": "display_data",
          "data": {
            "text/plain": [
              "<Figure size 1080x288 with 2 Axes>"
            ],
            "image/png": "[encoded data removed]"
          },
          "metadata": {
            "needs_background": "light"
          }
        }
      ]
    }
  ]
}