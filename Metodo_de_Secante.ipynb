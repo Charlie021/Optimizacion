{
  "nbformat": 4,
  "nbformat_minor": 0,
  "metadata": {
    "colab": {
      "provenance": [],
      "authorship_tag": "ABX9TyNK+Mm4wMwVyzhcSFTTz+Pz",
      "include_colab_link": true
    },
    "kernelspec": {
      "name": "python3",
      "display_name": "Python 3"
    },
    "language_info": {
      "name": "python"
    }
  },
  "cells": [
    {
      "cell_type": "markdown",
      "metadata": {
        "id": "view-in-github",
        "colab_type": "text"
      },
      "source": [
        "<a href=\"https://colab.research.google.com/github/Charlie021/Optimizacion/blob/main/Metodo_de_Secante.ipynb\" target=\"_parent\"><img src=\"https://colab.research.google.com/assets/colab-badge.svg\" alt=\"Open In Colab\"/></a>"
      ]
    },
    {
      "cell_type": "code",
      "execution_count": null,
      "metadata": {
        "id": "-KApLSyPQIQh"
      },
      "outputs": [],
      "source": [
        "%matplotlib inline\n",
        "\n",
        "import matplotlib.pyplot as plt\n",
        "import numpy as np\n",
        "import sympy"
      ]
    },
    {
      "cell_type": "code",
      "source": [
        "def GraficarFuncionObjetivo():\n",
        "    a, b = 40, 90\n",
        "    \n",
        "    T = np.linspace(a, b, 100)\n",
        "    U = (204165.5)/(330 - 2*T) + (10400)/(T - 20)\n",
        "\n",
        "    plt.figure(figsize=(6, 3))\n",
        "    plt.plot(T, U, 'b')\n",
        "    plt.plot(55.08, 1225.17, 'ko')\n",
        "    plt.annotate(r'$55.08, 1225.17$', (55.08, 1225.17), (50, 1250))\n",
        "\n",
        "    plt.xlabel(\"Temperatura\")\n",
        "    plt.ylabel(\"Costo\")\n",
        "    plt.grid()\n",
        "    plt.show()\n",
        "    \n",
        "    return None"
      ],
      "metadata": {
        "id": "_kYpl9hKQNFE"
      },
      "execution_count": null,
      "outputs": []
    },
    {
      "cell_type": "code",
      "source": [
        "GraficarFuncionObjetivo()"
      ],
      "metadata": {
        "colab": {
          "base_uri": "https://localhost:8080/",
          "height": 225
        },
        "id": "33W9bO4WQNJc",
        "outputId": "9524fe7c-b21b-44b2-bf43-5454bfeb647c"
      },
      "execution_count": null,
      "outputs": [
        {
          "output_type": "display_data",
          "data": {
            "text/plain": [
              "<Figure size 432x216 with 1 Axes>"
            ],
            "image/png": "[encoded data removed]"
          },
          "metadata": {
            "needs_background": "light"
          }
        }
      ]
    },
    {
      "cell_type": "code",
      "source": [
        "def CalcularGradiente():\n",
        "    T = sympy.Symbol('T')\n",
        "    fU = (204165.5)/(330-2*T) + (10400)/(T-20)\n",
        "\n",
        "    d1fU = sympy.diff(fU)\n",
        "\n",
        "    print(fU)\n",
        "    print(d1fU)\n",
        "\n",
        "    return None"
      ],
      "metadata": {
        "id": "umtTwAURQNOK"
      },
      "execution_count": null,
      "outputs": []
    },
    {
      "cell_type": "code",
      "source": [
        "CalcularGradiente()"
      ],
      "metadata": {
        "colab": {
          "base_uri": "https://localhost:8080/"
        },
        "id": "BWslY2BlQNSH",
        "outputId": "d3b67ddf-d81a-4e56-b12e-0826cd3b2cfe"
      },
      "execution_count": null,
      "outputs": [
        {
          "output_type": "stream",
          "name": "stdout",
          "text": [
            "10400/(T - 20) + 204165.5/(330 - 2*T)\n",
            "-10400/(T - 20)**2 + 408331.0/(330 - 2*T)**2\n"
          ]
        }
      ]
    },
    {
      "cell_type": "code",
      "source": [
        "# Funcion objetivo\n",
        "def U(T):\n",
        "    return 10400/(T - 20) + 204165.5/(330 - 2*T)"
      ],
      "metadata": {
        "id": "bz9ghmZ7QNWN"
      },
      "execution_count": null,
      "outputs": []
    },
    {
      "cell_type": "code",
      "source": [
        "U(55.08)"
      ],
      "metadata": {
        "colab": {
          "base_uri": "https://localhost:8080/"
        },
        "id": "nYxStwI9QhAn",
        "outputId": "0c65f2b9-c5bc-4d67-9c5e-657f96e759fb"
      },
      "execution_count": null,
      "outputs": [
        {
          "output_type": "execute_result",
          "data": {
            "text/plain": [
              "1225.1656408350887"
            ]
          },
          "metadata": {},
          "execution_count": 7
        }
      ]
    },
    {
      "cell_type": "code",
      "source": [
        "# Primera derivada\n",
        "def d1U(T):\n",
        "    return -10400/(T - 20)**2 + 408331.0/(-2*T + 330)**2"
      ],
      "metadata": {
        "id": "Ne_dW3lnQhJm"
      },
      "execution_count": null,
      "outputs": []
    },
    {
      "cell_type": "code",
      "source": [
        "d1U(55.08)"
      ],
      "metadata": {
        "colab": {
          "base_uri": "https://localhost:8080/"
        },
        "id": "T8scIprsQhQv",
        "outputId": "9bee6cc7-23a6-4379-c0b1-11781344783a"
      },
      "execution_count": null,
      "outputs": [
        {
          "output_type": "execute_result",
          "data": {
            "text/plain": [
              "-0.0022423688924249063"
            ]
          },
          "metadata": {},
          "execution_count": 9
        }
      ]
    },
    {
      "cell_type": "code",
      "source": [
        "def Secante():\n",
        "    a, b = 40, 90\n",
        "    epsilon = 0.01\n",
        "    \n",
        "    cont = 0\n",
        "    registro = []\n",
        "    \n",
        "    while True:\n",
        "        # calcular f'(a)\n",
        "        dU_a = d1U(a)\n",
        "        \n",
        "        # calcular f'(b\n",
        "        dU_b= d1U(b)\n",
        "        \n",
        "        # calcular alpha\n",
        "        alpha = b - dU_b / ((dU_b - dU_a)/(b - a))\n",
        "        \n",
        "        dU_alpha = d1U(alpha)\n",
        "        \n",
        "        if dU_alpha > 0:\n",
        "            b = alpha\n",
        "        else:\n",
        "            a = alpha\n",
        "            \n",
        "        U_alpha = U(alpha)\n",
        "        \n",
        "        cont = cont + 1\n",
        "        \n",
        "        registro.append([cont, alpha, U_alpha])\n",
        "        print(\"It: {:02d} - Temp: {:.10f} - Costo: {:.10f}\".format(cont, alpha, U_alpha))\n",
        "        \n",
        "        if np.abs(dU_alpha) <= epsilon:\n",
        "            print(\"------------------------------------------------------------------------\")\n",
        "            print(\"It: {:02d} - Temp: {:.10f} - Costo: {:.10f}\".format(cont, alpha, U_alpha))\n",
        "            break\n",
        "            \n",
        "    return registro"
      ],
      "metadata": {
        "id": "77BNjlUYQqAQ"
      },
      "execution_count": null,
      "outputs": []
    },
    {
      "cell_type": "code",
      "source": [
        "reg = Secante()"
      ],
      "metadata": {
        "colab": {
          "base_uri": "https://localhost:8080/"
        },
        "id": "9qE04-NzQqIQ",
        "outputId": "50318380-2148-4c9c-a819-f1c56f63a44d"
      },
      "execution_count": null,
      "outputs": [
        {
          "output_type": "stream",
          "name": "stdout",
          "text": [
            "It: 01 - Temp: 67.4238416410 - Costo: 1265.4843547060\n",
            "It: 02 - Temp: 60.8827888776 - Costo: 1234.8456727508\n",
            "It: 03 - Temp: 57.9389356280 - Costo: 1227.6249518474\n",
            "It: 04 - Temp: 56.5132183316 - Costo: 1225.7978324621\n",
            "It: 05 - Temp: 55.8045366165 - Costo: 1225.3285410968\n",
            "It: 06 - Temp: 55.4483617340 - Costo: 1225.2076290459\n",
            "It: 07 - Temp: 55.2684366108 - Costo: 1225.1764608953\n",
            "It: 08 - Temp: 55.1773211286 - Costo: 1225.1684267004\n",
            "It: 09 - Temp: 55.1311231215 - Costo: 1225.1663559004\n",
            "It: 10 - Temp: 55.1076851354 - Costo: 1225.1658221870\n",
            "It: 11 - Temp: 55.0957904902 - Costo: 1225.1656846363\n",
            "------------------------------------------------------------------------\n",
            "It: 11 - Temp: 55.0957904902 - Costo: 1225.1656846363\n"
          ]
        }
      ]
    },
    {
      "cell_type": "code",
      "source": [
        "def Evaluacion(reg):\n",
        "    reg1 = np.array(reg)\n",
        "    fig, axs = plt.subplots(1,2, figsize=(15, 4))\n",
        "\n",
        "    fig.suptitle('Convergencia')\n",
        "\n",
        "    axs[0].axhline(55.08, color='k' , linewidth=3, linestyle='--')\n",
        "    axs[0].plot(reg1[:, 0], reg1[:,1], linewidth=4)\n",
        "    axs[0].set_xlabel('Iteraciones')\n",
        "    axs[0].set_ylabel('Temperatura')\n",
        "    axs[0].grid()\n",
        "    axs[0].set_xlim([0, 15])\n",
        "\n",
        "    axs[1].axhline(1225.17, color='k' , linewidth=3, linestyle='--')\n",
        "    axs[1].plot(reg1[:, 0], reg1[:,2], linewidth=4)\n",
        "    axs[1].set_xlabel('Iteraciones')\n",
        "    axs[1].set_ylabel('Costo')\n",
        "    axs[1].grid()\n",
        "    axs[1].set_xlim([0, 15])\n",
        "\n",
        "    plt.show()\n",
        "    \n",
        "    return None"
      ],
      "metadata": {
        "id": "Gf7aHDZHQqTS"
      },
      "execution_count": null,
      "outputs": []
    },
    {
      "cell_type": "code",
      "source": [
        "Evaluacion(reg)"
      ],
      "metadata": {
        "colab": {
          "base_uri": "https://localhost:8080/",
          "height": 308
        },
        "id": "TvpsW-qVQ2Sg",
        "outputId": "bb1700bc-ae8a-4955-b6aa-f8fd4ae55c10"
      },
      "execution_count": null,
      "outputs": [
        {
          "output_type": "display_data",
          "data": {
            "text/plain": [
              "<Figure size 1080x288 with 2 Axes>"
            ],
            "image/png": "[encoded data removed]"
          },
          "metadata": {
            "needs_background": "light"
          }
        }
      ]
    }
  ]
}