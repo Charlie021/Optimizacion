{
  "nbformat": 4,
  "nbformat_minor": 0,
  "metadata": {
    "colab": {
      "provenance": [],
      "authorship_tag": "ABX9TyPrL22glAJmNWzOnGDFUgTQ",
      "include_colab_link": true
    },
    "kernelspec": {
      "name": "python3",
      "display_name": "Python 3"
    },
    "language_info": {
      "name": "python"
    }
  },
  "cells": [
    {
      "cell_type": "markdown",
      "metadata": {
        "id": "view-in-github",
        "colab_type": "text"
      },
      "source": [
        "<a href=\"https://colab.research.google.com/github/Charlie021/Optimizacion/blob/main/Seccion_Dorada.ipynb\" target=\"_parent\"><img src=\"https://colab.research.google.com/assets/colab-badge.svg\" alt=\"Open In Colab\"/></a>"
      ]
    },
    {
      "cell_type": "code",
      "execution_count": 1,
      "metadata": {
        "id": "zjSYX0KPMXWd"
      },
      "outputs": [],
      "source": [
        "%matplotlib inline\n",
        "\n",
        "import matplotlib.pyplot as plt\n",
        "import numpy as np\n",
        "import sympy"
      ]
    },
    {
      "cell_type": "code",
      "source": [
        "def plotPuntos(a,b):\n",
        "    T = np.linspace(a, b, 100)\n",
        "    U = (T*T+T)*np.cos(2*T)+T*T\n",
        "\n",
        "    return T, U\n",
        "\n",
        "def GraficarFuncionObjetivo():\n",
        "    a,b = -5,5\n",
        "    \n",
        "    T = np.linspace(a, b, 100)\n",
        "    U = (T*T+T)*np.cos(2*T)+T*T\n",
        "\n",
        "    plt.figure(figsize=(6, 3))\n",
        "    plt.plot(T, U, 'b')\n",
        "    plt.plot(55.08, 1225.17, 'ko')\n",
        "    plt.annotate(r'$55.08, 1225.17$', (55.08, 1225.17), (50, 1250))\n",
        "\n",
        "    plt.xlabel(\"Temperatura\")\n",
        "    plt.ylabel(\"Costo\")\n",
        "    plt.grid()\n",
        "    plt.show()"
      ],
      "metadata": {
        "id": "Y8vOWu8xNaqs"
      },
      "execution_count": 2,
      "outputs": []
    },
    {
      "cell_type": "code",
      "source": [
        "# Funcion objetivo\n",
        "def U(T):\n",
        "    return (T*T+T)*np.cos(2*T)+T*T"
      ],
      "metadata": {
        "id": "0saZQu9INat5"
      },
      "execution_count": 3,
      "outputs": []
    },
    {
      "cell_type": "code",
      "source": [
        "def GoldenSectionSearch():\n",
        "    a = 5\n",
        "    b = -5\n",
        "    tau = 2 - 1.618033988\n",
        "    epsilon = 1e-6\n",
        "\n",
        "    cont = 0\n",
        "    registro = []\n",
        "\n",
        "    while(True):\n",
        "        # Calcular alpha1 y alpha2\n",
        "        alpha1 = a*(1 - tau) + b*tau\n",
        "        alpha2 = a*tau + b*(1 - tau)\n",
        "\n",
        "        # Calcular f(alpha1) y f(alpha2)\n",
        "        U_alpha1 = U(alpha1)\n",
        "        U_alpha2 = U(alpha2)\n",
        "        \n",
        "        if(U_alpha1 > U_alpha2):\n",
        "            a = alpha1\n",
        "        else:\n",
        "            b = alpha2       \n",
        "\n",
        "        cont = cont + 1\n",
        "        registro.append([cont, alpha1, U_alpha1])\n",
        "        print(\"It: {:02d} - Temp: {:.10f} - Costo: {:.10f}\".format(cont, alpha1, U_alpha1))\n",
        "\n",
        "        if(np.abs(U_alpha1 - U_alpha2) < epsilon):\n",
        "            print(\"-------------------------------------------------------\")\n",
        "            print(\"It: {:02d} - Temp: {:.10f} - Costo: {:.10f}\".format(cont, alpha1, U_alpha1))\n",
        "            break\n",
        "            \n",
        "    return registro"
      ],
      "metadata": {
        "id": "AN-wTnYXNax2"
      },
      "execution_count": 4,
      "outputs": []
    },
    {
      "cell_type": "code",
      "source": [
        "reg = GoldenSectionSearch()"
      ],
      "metadata": {
        "colab": {
          "base_uri": "https://localhost:8080/"
        },
        "id": "D3BoE6kjNa2y",
        "outputId": "821b90a2-ba4a-4a80-d447-cf618ebefdbc"
      },
      "execution_count": 5,
      "outputs": [
        {
          "output_type": "stream",
          "name": "stdout",
          "text": [
            "It: 01 - Temp: 1.1803398800 - Costo: -0.4347106702\n",
            "It: 02 - Temp: 2.6393202232 - Costo: 12.1190061801\n",
            "It: 03 - Temp: 1.1803398864 - Costo: -0.4347106936\n",
            "It: 04 - Temp: 1.7376207872 - Costo: -1.4752924904\n",
            "It: 05 - Temp: 2.0820393248 - Costo: 0.9900901865\n",
            "It: 06 - Temp: 1.7376207888 - Costo: -1.4752924869\n",
            "It: 07 - Temp: 1.5247584274 - Costo: -1.5084513918\n",
            "It: 08 - Temp: 1.6060646147 - Costo: -1.5956566246\n",
            "It: 09 - Temp: 1.6563146018 - Costo: -1.5921181208\n",
            "It: 10 - Temp: 1.6060646149 - Costo: -1.5956566247\n",
            "It: 11 - Temp: 1.6252584020 - Costo: -1.5999722111\n",
            "It: 12 - Temp: 1.6371208148 - Costo: -1.5991935381\n",
            "It: 13 - Temp: 1.6252584020 - Costo: -1.5999722111\n",
            "It: 14 - Temp: 1.6297894405 - Costo: -1.5999918434\n",
            "It: 15 - Temp: 1.6325897763 - Costo: -1.5998087691\n",
            "It: 16 - Temp: 1.6297894406 - Costo: -1.5999918434\n",
            "It: 17 - Temp: 1.6280587379 - Costo: -1.6000302505\n",
            "It: 18 - Temp: 1.6287198075 - Costo: -1.6000222976\n",
            "It: 19 - Temp: 1.6280587379 - Costo: -1.6000302505\n",
            "-------------------------------------------------------\n",
            "It: 19 - Temp: 1.6280587379 - Costo: -1.6000302505\n"
          ]
        }
      ]
    },
    {
      "cell_type": "code",
      "source": [
        "def Evaluacion(reg):\n",
        "    reg1 = np.array(reg)\n",
        "    fig, axs = plt.subplots(1,2, figsize=(15, 4))\n",
        "\n",
        "    fig.suptitle('Convergencia')\n",
        "\n",
        "    axs[0].axhline(55.08, color='k' , linewidth=3, linestyle='--')\n",
        "    axs[0].plot(reg1[:, 0], reg1[:,1], linewidth=4)\n",
        "    axs[0].set_xlabel('Iteraciones')\n",
        "    axs[0].set_ylabel('Temperatura')\n",
        "    axs[0].grid()\n",
        "    axs[0].set_xlim([0, 15])\n",
        "\n",
        "    axs[1].axhline(1225.17, color='k' , linewidth=3, linestyle='--')\n",
        "    axs[1].plot(reg1[:, 0], reg1[:,2], linewidth=4)\n",
        "    axs[1].set_xlabel('Iteraciones')\n",
        "    axs[1].set_ylabel('Costo')\n",
        "    axs[1].grid()\n",
        "    axs[1].set_xlim([0, 15])\n",
        "\n",
        "    plt.show()\n",
        "    \n",
        "    return None"
      ],
      "metadata": {
        "id": "2Y6lQzGrNa6w"
      },
      "execution_count": 6,
      "outputs": []
    },
    {
      "cell_type": "code",
      "source": [
        "Evaluacion(reg)"
      ],
      "metadata": {
        "colab": {
          "base_uri": "https://localhost:8080/",
          "height": 308
        },
        "id": "kD9TdY-UROQw",
        "outputId": "9119e4dd-2b71-49bc-95fc-b8ec70c4a242"
      },
      "execution_count": 7,
      "outputs": [
        {
          "output_type": "display_data",
          "data": {
            "text/plain": [
              "<Figure size 1080x288 with 2 Axes>"
            ],
            "image/png": "[encoded data removed]"
          },
          "metadata": {
            "needs_background": "light"
          }
        }
      ]
    }
  ]
}