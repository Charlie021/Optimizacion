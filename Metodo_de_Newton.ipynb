{
  "nbformat": 4,
  "nbformat_minor": 0,
  "metadata": {
    "colab": {
      "provenance": [],
      "authorship_tag": "ABX9TyNuMVWb3rfY6lNbsJLCkTkT",
      "include_colab_link": true
    },
    "kernelspec": {
      "name": "python3",
      "display_name": "Python 3"
    },
    "language_info": {
      "name": "python"
    }
  },
  "cells": [
    {
      "cell_type": "markdown",
      "metadata": {
        "id": "view-in-github",
        "colab_type": "text"
      },
      "source": [
        "<a href=\"https://colab.research.google.com/github/Charlie021/Optimizacion/blob/main/Metodo_de_Newton.ipynb\" target=\"_parent\"><img src=\"https://colab.research.google.com/assets/colab-badge.svg\" alt=\"Open In Colab\"/></a>"
      ]
    },
    {
      "cell_type": "code",
      "execution_count": null,
      "metadata": {
        "id": "UxswBqXkOOyF"
      },
      "outputs": [],
      "source": [
        "%matplotlib inline\n",
        "\n",
        "import matplotlib.pyplot as plt\n",
        "import numpy as np\n",
        "import sympy"
      ]
    },
    {
      "cell_type": "code",
      "source": [
        "def plotPuntos(a,b):\n",
        "    T = np.linspace(a, b, 100)\n",
        "    U = (204165.5)/(330 - 2*T) + (10400)/(T - 20)\n",
        "\n",
        "    return T, U"
      ],
      "metadata": {
        "id": "6xIeJoz9OTev"
      },
      "execution_count": null,
      "outputs": []
    },
    {
      "cell_type": "code",
      "source": [
        "def GraficarFuncionObjetivo():\n",
        "    a, b = 40, 90\n",
        "    T, U = plotPuntos(a, b)\n",
        "    \n",
        "    plt.plot(T, U, 'b')\n",
        "    plt.plot(55.08, 1225.17, 'ko')\n",
        "    plt.annotate(r'$55.08, 1225.17$', (55.08, 1225.17), (50, 1250))\n",
        "    \n",
        "    plt.xlabel('Temperatura')\n",
        "    plt.ylabel('Costo')\n",
        "    plt.grid()\n",
        "    plt.show()"
      ],
      "metadata": {
        "id": "Qr-yIrAbOXxN"
      },
      "execution_count": null,
      "outputs": []
    },
    {
      "cell_type": "code",
      "source": [
        "def CalcularGradiente():\n",
        "    T = sympy.Symbol('T')\n",
        "    U = (204165.5)/(330 - 2*T) + (10400)/(T - 20)\n",
        "    \n",
        "    d1U = sympy.diff(U)\n",
        "    d2U = sympy.diff(d1U)\n",
        "    \n",
        "    print(U)\n",
        "    print(d1U)\n",
        "    print(d2U)"
      ],
      "metadata": {
        "id": "KwYUVXd5OboU"
      },
      "execution_count": null,
      "outputs": []
    },
    {
      "cell_type": "code",
      "source": [
        "CalcularGradiente()"
      ],
      "metadata": {
        "colab": {
          "base_uri": "https://localhost:8080/"
        },
        "id": "mxDP2KbmOgeV",
        "outputId": "ed393aec-6325-4a7e-b6df-f6ed66c66cb4"
      },
      "execution_count": null,
      "outputs": [
        {
          "output_type": "stream",
          "name": "stdout",
          "text": [
            "10400/(T - 20) + 204165.5/(330 - 2*T)\n",
            "-10400/(T - 20)**2 + 408331.0/(330 - 2*T)**2\n",
            "20800/(T - 20)**3 + 1633324.0/(330 - 2*T)**3\n"
          ]
        }
      ]
    },
    {
      "cell_type": "code",
      "source": [
        "def U(T):\n",
        "    return 10400/(T - 20) + 204165.5/(330 - 2*T)"
      ],
      "metadata": {
        "id": "IMVwNuV3OjT7"
      },
      "execution_count": null,
      "outputs": []
    },
    {
      "cell_type": "code",
      "source": [
        "U(55.08)"
      ],
      "metadata": {
        "colab": {
          "base_uri": "https://localhost:8080/"
        },
        "id": "W712hWAGOqJ5",
        "outputId": "df732869-78c1-4202-e015-11a9bcc625ce"
      },
      "execution_count": null,
      "outputs": [
        {
          "output_type": "execute_result",
          "data": {
            "text/plain": [
              "1225.1656408350887"
            ]
          },
          "metadata": {},
          "execution_count": 7
        }
      ]
    },
    {
      "cell_type": "code",
      "source": [
        "def d1U(T):\n",
        "    return -10400/(T - 20)**2 + 408331.0/(330 - 2*T)**2"
      ],
      "metadata": {
        "id": "q3S2HD-3OtvM"
      },
      "execution_count": null,
      "outputs": []
    },
    {
      "cell_type": "code",
      "source": [
        "d1U(55.08)"
      ],
      "metadata": {
        "colab": {
          "base_uri": "https://localhost:8080/"
        },
        "id": "AzQFPtdKOxKP",
        "outputId": "4cdedd56-b89d-44d5-c9ef-e80f7b16b1e1"
      },
      "execution_count": null,
      "outputs": [
        {
          "output_type": "execute_result",
          "data": {
            "text/plain": [
              "-0.0022423688924249063"
            ]
          },
          "metadata": {},
          "execution_count": 9
        }
      ]
    },
    {
      "cell_type": "code",
      "source": [
        "def d2U(T):\n",
        "    return 20800/(T - 20)**3 + 1633324.0/(330 - 2*T)**3"
      ],
      "metadata": {
        "id": "biwHkKxJO2Lk"
      },
      "execution_count": null,
      "outputs": []
    },
    {
      "cell_type": "code",
      "source": [
        "d2U(55.08)"
      ],
      "metadata": {
        "colab": {
          "base_uri": "https://localhost:8080/"
        },
        "id": "IGeQCr4fO5af",
        "outputId": "de6474a1-f772-4e69-bc37-34364b9f691b"
      },
      "execution_count": null,
      "outputs": [
        {
          "output_type": "execute_result",
          "data": {
            "text/plain": [
              "0.6355474551218123"
            ]
          },
          "metadata": {},
          "execution_count": 11
        }
      ]
    },
    {
      "cell_type": "code",
      "source": [
        "def NewtonRaphson():\n",
        "    a, b = 40, 90\n",
        "    x = 90\n",
        "    epsilon = 0.001\n",
        "    \n",
        "    cont = 0\n",
        "    registro = []\n",
        "    \n",
        "    while True:\n",
        "        # Calculo de f'(x) y f''(x)\n",
        "        d1U_x = d1U(x)\n",
        "        d2U_x = d2U(x)\n",
        "        \n",
        "        xprev = x\n",
        "        x = xprev - d1U_x/d2U_x\n",
        "        \n",
        "        U_x = U(x)\n",
        "        \n",
        "        cont = cont + 1\n",
        "        registro.append([cont, x, U_x])\n",
        "        \n",
        "        print(\"It: {:02d} - Temp: {:.10f} - Costo: {:.10f}\".format(cont, x, U_x))\n",
        "        \n",
        "        if(np.abs(x - xprev) <= epsilon):\n",
        "            print(\"----------------------------------------------------------------\")\n",
        "            print(\"It: {:02d} - Temp: {:.10f} - Costo: {:.10f}\".format(cont, x, U_x))\n",
        "            break\n",
        "        \n",
        "    return registro"
      ],
      "metadata": {
        "id": "ROtm70YnO_TZ"
      },
      "execution_count": null,
      "outputs": []
    },
    {
      "cell_type": "code",
      "source": [
        "reg = NewtonRaphson()"
      ],
      "metadata": {
        "colab": {
          "base_uri": "https://localhost:8080/"
        },
        "id": "WC4dpst5PAZG",
        "outputId": "b69f21a9-9578-41a4-aff4-01fc9ede868b"
      },
      "execution_count": null,
      "outputs": [
        {
          "output_type": "stream",
          "name": "stdout",
          "text": [
            "It: 01 - Temp: 60.5730595536 - Costo: 1233.8795849955\n",
            "It: 02 - Temp: 54.3709476178 - Costo: 1225.3292441409\n",
            "It: 03 - Temp: 55.0684488875 - Costo: 1225.1657091464\n",
            "It: 04 - Temp: 55.0835219881 - Costo: 1225.1656368790\n",
            "It: 05 - Temp: 55.0835286102 - Costo: 1225.1656368790\n",
            "----------------------------------------------------------------\n",
            "It: 05 - Temp: 55.0835286102 - Costo: 1225.1656368790\n"
          ]
        }
      ]
    },
    {
      "cell_type": "code",
      "source": [
        "def evaluacion(reg):\n",
        "    reg = np.array(reg)\n",
        "    fig, axs = plt.subplots(1, 2, figsize=(15, 6))\n",
        "    \n",
        "    fig.suptitle('Analisis de convergencia')\n",
        "    \n",
        "    axs[0].axhline(55.08, color='k', linewidth=3, linestyle='--')\n",
        "    axs[0].plot(reg[:, 0], reg[:, 1], linewidth=4)\n",
        "    axs[0].set_xlabel('Iteraciones')\n",
        "    axs[0].set_ylabel('Temperatura')\n",
        "    axs[0].grid()\n",
        "    axs[0].set_xlim([0, 15])\n",
        "    \n",
        "    axs[1].axhline(1225.17, color='k', linewidth=3, linestyle='--')\n",
        "    axs[1].plot(reg[:, 0], reg[:, 2], linewidth=4)\n",
        "    axs[1].set_xlabel('Iteraciones')\n",
        "    axs[1].set_ylabel('Costo')\n",
        "    axs[1].grid()\n",
        "    axs[1].set_xlim([0, 15])\n",
        "    \n",
        "    plt.show()"
      ],
      "metadata": {
        "id": "GDaA3HoYPHko"
      },
      "execution_count": null,
      "outputs": []
    },
    {
      "cell_type": "code",
      "source": [
        "evaluacion(reg)"
      ],
      "metadata": {
        "colab": {
          "base_uri": "https://localhost:8080/",
          "height": 431
        },
        "id": "utPnmONKPItA",
        "outputId": "0721402d-af07-49f9-d31c-541b4cfdd0b4"
      },
      "execution_count": null,
      "outputs": [
        {
          "output_type": "display_data",
          "data": {
            "text/plain": [
              "<Figure size 1080x432 with 2 Axes>"
            ],
            "image/png": "[encoded data removed]"
          },
          "metadata": {
            "needs_background": "light"
          }
        }
      ]
    }
  ]
}