{
  "nbformat": 4,
  "nbformat_minor": 0,
  "metadata": {
    "colab": {
      "provenance": [],
      "authorship_tag": "ABX9TyPvF1cqPwRrRQyX1tS9tJNm",
      "include_colab_link": true
    },
    "kernelspec": {
      "name": "python3",
      "display_name": "Python 3"
    },
    "language_info": {
      "name": "python"
    }
  },
  "cells": [
    {
      "cell_type": "markdown",
      "metadata": {
        "id": "view-in-github",
        "colab_type": "text"
      },
      "source": [
        "<a href=\"https://colab.research.google.com/github/Charlie021/Optimizacion/blob/main/Nelder.ipynb\" target=\"_parent\"><img src=\"https://colab.research.google.com/assets/colab-badge.svg\" alt=\"Open In Colab\"/></a>"
      ]
    },
    {
      "cell_type": "markdown",
      "source": [
        "Maximo y minimo de la funcion $f(x)=xy+x+y$ usando diferentes metodos"
      ],
      "metadata": {
        "id": "TNrFaKVB8NUS"
      }
    },
    {
      "cell_type": "code",
      "execution_count": 8,
      "metadata": {
        "id": "T0tjvWv_xg-n"
      },
      "outputs": [],
      "source": [
        "import numpy as np\n",
        "from scipy.optimize import minimize"
      ]
    },
    {
      "cell_type": "code",
      "source": [
        "# Maximo\n",
        "def funcion(x):\n",
        "    return ((x[0]*x[1])+x[0]+x[1])*1"
      ],
      "metadata": {
        "id": "fsiXD3A8yk9Y"
      },
      "execution_count": 9,
      "outputs": []
    },
    {
      "cell_type": "code",
      "source": [
        "x0 = np.array([1.5, 2.5])\n",
        "res = minimize(funcion, x0, method='nelder-mead',\n",
        "               bounds=([1, 2],[2, 3]),\n",
        "               options={'xatol': 1e-8, 'disp': True})"
      ],
      "metadata": {
        "colab": {
          "base_uri": "https://localhost:8080/"
        },
        "id": "h-Y3f318yn8g",
        "outputId": "a9722818-3e3d-481f-993d-962038ccd293"
      },
      "execution_count": 10,
      "outputs": [
        {
          "output_type": "stream",
          "name": "stdout",
          "text": [
            "Optimization terminated successfully.\n",
            "         Current function value: 5.000000\n",
            "         Iterations: 12\n",
            "         Function evaluations: 21\n"
          ]
        }
      ]
    },
    {
      "cell_type": "code",
      "source": [
        "print(res.x)"
      ],
      "metadata": {
        "colab": {
          "base_uri": "https://localhost:8080/"
        },
        "id": "YjYpljdEyu0_",
        "outputId": "f16f1ccc-a62b-4282-9919-e74d5e1edb23"
      },
      "execution_count": 11,
      "outputs": [
        {
          "output_type": "stream",
          "name": "stdout",
          "text": [
            "[1. 2.]\n"
          ]
        }
      ]
    },
    {
      "cell_type": "code",
      "source": [
        "# Minimo\n",
        "def funcion(x):\n",
        "    return ((x[0]*x[1])+x[0]+x[1])*-1"
      ],
      "metadata": {
        "id": "QcGVt_Brd9Do"
      },
      "execution_count": 12,
      "outputs": []
    },
    {
      "cell_type": "code",
      "source": [
        "x0 = np.array([1.5, 2.5])\n",
        "res = minimize(funcion, x0, method='nelder-mead',\n",
        "               bounds=([1, 2],[2, 3]),\n",
        "               options={'xatol': 1e-8, 'disp': True})"
      ],
      "metadata": {
        "colab": {
          "base_uri": "https://localhost:8080/"
        },
        "id": "fgBX_8EbeTex",
        "outputId": "71f5469e-8fc7-4916-e10c-eef9dba9f02e"
      },
      "execution_count": 13,
      "outputs": [
        {
          "output_type": "stream",
          "name": "stdout",
          "text": [
            "Optimization terminated successfully.\n",
            "         Current function value: -11.000000\n",
            "         Iterations: 9\n",
            "         Function evaluations: 17\n"
          ]
        }
      ]
    },
    {
      "cell_type": "code",
      "source": [
        "print(res.x)"
      ],
      "metadata": {
        "colab": {
          "base_uri": "https://localhost:8080/"
        },
        "id": "7uwPGCHReWtb",
        "outputId": "3190f21c-c360-4993-ba4a-a9170ed3d8a2"
      },
      "execution_count": 14,
      "outputs": [
        {
          "output_type": "stream",
          "name": "stdout",
          "text": [
            "[2. 3.]\n"
          ]
        }
      ]
    }
  ]
}