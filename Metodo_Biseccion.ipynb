{
  "nbformat": 4,
  "nbformat_minor": 0,
  "metadata": {
    "colab": {
      "provenance": [],
      "authorship_tag": "ABX9TyPrKGQqaMXxE5ucLdsk5SVJ",
      "include_colab_link": true
    },
    "kernelspec": {
      "name": "python3",
      "display_name": "Python 3"
    },
    "language_info": {
      "name": "python"
    }
  },
  "cells": [
    {
      "cell_type": "markdown",
      "metadata": {
        "id": "view-in-github",
        "colab_type": "text"
      },
      "source": [
        "<a href=\"https://colab.research.google.com/github/Charlie021/Optimizacion/blob/main/Metodo_Biseccion.ipynb\" target=\"_parent\"><img src=\"https://colab.research.google.com/assets/colab-badge.svg\" alt=\"Open In Colab\"/></a>"
      ]
    },
    {
      "cell_type": "code",
      "execution_count": null,
      "metadata": {
        "colab": {
          "base_uri": "https://localhost:8080/",
          "height": 279
        },
        "id": "f7ENlLb0jpeQ",
        "outputId": "56bab113-0bdf-4acb-9423-1bc6e2098b8a"
      },
      "outputs": [
        {
          "output_type": "display_data",
          "data": {
            "text/plain": [
              "<Figure size 432x288 with 1 Axes>"
            ],
            "image/png": "[encoded data removed]"
          },
          "metadata": {
            "needs_background": "light"
          }
        }
      ],
      "source": [
        "%matplotlib inline\n",
        "import matplotlib.pyplot as plt\n",
        "import numpy as np\n",
        "\n",
        "a=40\n",
        "b=90\n",
        "T=np.linspace(a,b,100)\n",
        "U=(204165.5)/(330-2*T)+(10400)/(T-20)\n",
        "\n",
        "plt.figure()\n",
        "plt.plot(T,U,'k')\n",
        "plt.xlabel('Temperatura')\n",
        "plt.ylabel('Costo')\n",
        "plt.grid()\n",
        "plt.show()"
      ]
    },
    {
      "cell_type": "code",
      "source": [
        "import sympy\n",
        "\n",
        "def calcularGradiente():\n",
        "  T=sympy.Symbol('T')\n",
        "  fU=(204165.5)/(330-2*T)+(10400)/(T-20)\n",
        "  d1fU=sympy.diff(fU)\n",
        "  print(fU)\n",
        "  print(d1fU)\n",
        "  return None\n",
        "\n",
        "calcularGradiente()\n"
      ],
      "metadata": {
        "colab": {
          "base_uri": "https://localhost:8080/"
        },
        "id": "s_9t12SfnVIn",
        "outputId": "c320bd58-8834-4809-fcd1-0ffb342d11e7"
      },
      "execution_count": null,
      "outputs": [
        {
          "output_type": "stream",
          "name": "stdout",
          "text": [
            "10400/(T - 20) + 204165.5/(330 - 2*T)\n",
            "-10400/(T - 20)**2 + 408331.0/(330 - 2*T)**2\n"
          ]
        }
      ]
    },
    {
      "cell_type": "code",
      "source": [
        "def U(T):\n",
        "  return (204165.5)/(330-2*T)+(10400)/(T-20)\n",
        "U(55.08)"
      ],
      "metadata": {
        "colab": {
          "base_uri": "https://localhost:8080/"
        },
        "id": "V0uAKv5OoN-n",
        "outputId": "7e3f6f60-5590-4b52-85d7-9c3c88906160"
      },
      "execution_count": null,
      "outputs": [
        {
          "output_type": "execute_result",
          "data": {
            "text/plain": [
              "1225.1656408350887"
            ]
          },
          "metadata": {},
          "execution_count": 5
        }
      ]
    },
    {
      "cell_type": "code",
      "source": [
        "def d1U(T):\n",
        "  return -10400/(T - 20)**2 + 408331.0/(330 - 2*T)**2\n",
        "d1U(55.08)"
      ],
      "metadata": {
        "colab": {
          "base_uri": "https://localhost:8080/"
        },
        "id": "afpUp-bWoeQ4",
        "outputId": "9c4928e2-772d-4ae5-928d-8505c751ffd2"
      },
      "execution_count": null,
      "outputs": [
        {
          "output_type": "execute_result",
          "data": {
            "text/plain": [
              "-0.0022423688924249063"
            ]
          },
          "metadata": {},
          "execution_count": 6
        }
      ]
    },
    {
      "cell_type": "code",
      "source": [
        "def biseccion():\n",
        "  a=40\n",
        "  b=90\n",
        "  epsilon=0.001\n",
        "  cont=0\n",
        "  registro=[]\n",
        "\n",
        "  while(True):\n",
        "    alpha=(a+b)/2\n",
        "    dU_a=d1U(a) #Primer derivada en a\n",
        "    dU_alpha=d1U(alpha) #Primer derivada en alpha\n",
        "    if(dU_a*dU_alpha<0):\n",
        "      b=alpha\n",
        "    else:\n",
        "      a=alpha\n",
        "    \n",
        "    Ua=U(a)\n",
        "    if(np.abs(a-b)<epsilon):\n",
        "      print('-------------------------------------------')\n",
        "      print(\"it: {:02} - Temp: {:.10f} - Costo: {:.10f}\".format(cont, a, Ua))\n",
        "      break\n",
        "\n",
        "    cont=cont+1\n",
        "    registro.append([cont, a, Ua])\n",
        "    print(\"it: {:02} - Temp: {:.10f} - Costo: {:.10f}\".format(cont, a, Ua))\n",
        "  return registro\n",
        "\n",
        "reg1=biseccion()"
      ],
      "metadata": {
        "colab": {
          "base_uri": "https://localhost:8080/"
        },
        "id": "P8NRzdmnmAfq",
        "outputId": "9d055005-fd04-42ea-e95b-62f5a807a368"
      },
      "execution_count": null,
      "outputs": [
        {
          "output_type": "stream",
          "name": "stdout",
          "text": [
            "it: 01 - Temp: 40.0000000000 - Costo: 1336.6620000000\n",
            "it: 02 - Temp: 52.5000000000 - Costo: 1227.4022222222\n",
            "it: 03 - Temp: 52.5000000000 - Costo: 1227.4022222222\n",
            "it: 04 - Temp: 52.5000000000 - Costo: 1227.4022222222\n",
            "it: 05 - Temp: 54.0625000000 - Costo: 1225.5036361287\n",
            "it: 06 - Temp: 54.8437500000 - Costo: 1225.1839888051\n",
            "it: 07 - Temp: 54.8437500000 - Costo: 1225.1839888051\n",
            "it: 08 - Temp: 55.0390625000 - Costo: 1225.1662656061\n",
            "it: 09 - Temp: 55.0390625000 - Costo: 1225.1662656061\n",
            "it: 10 - Temp: 55.0390625000 - Costo: 1225.1662656061\n",
            "it: 11 - Temp: 55.0634765625 - Costo: 1225.1657646744\n",
            "it: 12 - Temp: 55.0756835938 - Costo: 1225.1656564351\n",
            "it: 13 - Temp: 55.0817871094 - Costo: 1225.1656378426\n",
            "it: 14 - Temp: 55.0817871094 - Costo: 1225.1656378426\n",
            "it: 15 - Temp: 55.0833129883 - Costo: 1225.1656368938\n",
            "-------------------------------------------\n",
            "it: 15 - Temp: 55.0833129883 - Costo: 1225.1656368938\n"
          ]
        }
      ]
    },
    {
      "cell_type": "code",
      "source": [
        "def evaluacion(reg):\n",
        "  reg=np.array(reg)\n",
        "  fig, axs=plt.subplots(1, 2, figsize=(15, 6))\n",
        "\n",
        "  fig.suptitle('Analisis de convergencia')\n",
        "  axs[0].axhline(55.08, color='k', linewidth=3, linestyle='--')\n",
        "  axs[0].plot(reg[:,0], reg[:,1], linewidth=4)\n",
        "  axs[0].set_xlabel('Iteracuines')\n",
        "  axs[0].set_ylabel('Temperatura')\n",
        "  axs[0].grid()\n",
        "  axs[0].set_xlim([0,15])\n",
        "  \n",
        "  fig.suptitle('Analisis de convergencia')\n",
        "  axs[1].axhline(1225.17, color='k', linewidth=3, linestyle='--')\n",
        "  axs[1].plot(reg[:,0], reg[:,2], linewidth=4)\n",
        "  axs[1].set_xlabel('Iteracuines')\n",
        "  axs[1].set_ylabel('Costo')\n",
        "  axs[1].grid()\n",
        "  axs[1].set_xlim([0,15])\n",
        "\n",
        "  plt.show()\n",
        "\n",
        "evaluacion(reg1)"
      ],
      "metadata": {
        "colab": {
          "base_uri": "https://localhost:8080/",
          "height": 431
        },
        "id": "FfeBKDF6mA1a",
        "outputId": "0a3e73a6-a1a8-48ed-a962-3df138d3a62e"
      },
      "execution_count": null,
      "outputs": [
        {
          "output_type": "display_data",
          "data": {
            "text/plain": [
              "<Figure size 1080x432 with 2 Axes>"
            ],
            "image/png": "[encoded data removed]"
          },
          "metadata": {
            "needs_background": "light"
          }
        }
      ]
    }
  ]
}