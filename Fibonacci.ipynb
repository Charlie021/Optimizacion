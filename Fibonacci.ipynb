{
  "nbformat": 4,
  "nbformat_minor": 0,
  "metadata": {
    "colab": {
      "provenance": [],
      "authorship_tag": "ABX9TyMXTzE407Iqfz54YsNdDyu7",
      "include_colab_link": true
    },
    "kernelspec": {
      "name": "python3",
      "display_name": "Python 3"
    },
    "language_info": {
      "name": "python"
    }
  },
  "cells": [
    {
      "cell_type": "markdown",
      "metadata": {
        "id": "view-in-github",
        "colab_type": "text"
      },
      "source": [
        "<a href=\"https://colab.research.google.com/github/Charlie021/Optimizacion/blob/main/Fibonacci.ipynb\" target=\"_parent\"><img src=\"https://colab.research.google.com/assets/colab-badge.svg\" alt=\"Open In Colab\"/></a>"
      ]
    },
    {
      "cell_type": "code",
      "execution_count": null,
      "metadata": {
        "id": "wTO0BK32WzMc"
      },
      "outputs": [],
      "source": [
        "%matplotlib inline\n",
        "\n",
        "import matplotlib.pyplot as plt\n",
        "import numpy as np"
      ]
    },
    {
      "cell_type": "code",
      "source": [
        "def GraficarFuncionObjetivo():\n",
        "    a,b = -5,5\n",
        "    \n",
        "    T = np.linspace(a, b, 100)\n",
        "    U = (T*T+T)*np.cos(2*T)+T*T\n",
        "\n",
        "    plt.figure(figsize=(6, 3))\n",
        "    plt.plot(T, U, 'b')\n",
        "    plt.plot(1.6276501635, -1.6000310217, 'ko')\n",
        "    plt.annotate(r'$1.6276501635, -1.6000310217', (1.6276501635, -1.6000310217), (2, -1.6000310217))\n",
        "\n",
        "    plt.xlabel(\"Temperatura\")\n",
        "    plt.ylabel(\"Costo\")\n",
        "    plt.grid()\n",
        "    plt.show()\n",
        "    \n",
        "    return None\n",
        "\n",
        "GraficarFuncionObjetivo()"
      ],
      "metadata": {
        "colab": {
          "base_uri": "https://localhost:8080/",
          "height": 225
        },
        "id": "xJrW0SQwW54S",
        "outputId": "cd8fdc10-84ca-42b3-e345-3c1d4482cb6e"
      },
      "execution_count": null,
      "outputs": [
        {
          "output_type": "display_data",
          "data": {
            "text/plain": [
              "<Figure size 432x216 with 1 Axes>"
            ],
            "image/png": "[encoded data removed]"
          },
          "metadata": {
            "needs_background": "light"
          }
        }
      ]
    },
    {
      "cell_type": "code",
      "source": [
        "def U(T):\n",
        "    return (T*T+T)*np.cos(2*T)+T*T"
      ],
      "metadata": {
        "id": "X0E-cGErW57N"
      },
      "execution_count": null,
      "outputs": []
    },
    {
      "cell_type": "code",
      "source": [
        "def Fibonacci(*params):\n",
        "    a   = params[0]\n",
        "    b   = params[1]\n",
        "    k   = params[2]\n",
        "    it  = params[3]\n",
        "    reg = params[4]\n",
        "    L   = params[5]\n",
        "    n   = params[6]\n",
        "    fs  = params[7]\n",
        "    ep  = params[8]\n",
        "\n",
        "    i_arriba = n - k + 1 \n",
        "    i_abajo = n + 1\n",
        "    Lk = L*fs[i_arriba]/fs[i_abajo]\n",
        "\n",
        "    xa = a + Lk\n",
        "    xb = b - Lk\n",
        "\n",
        "    U_xa = U(xa)\n",
        "    U_xb = U(xb)\n",
        "\n",
        "    if(U_xa > U_xb):\n",
        "        a = xa\n",
        "    else:\n",
        "        b = xb\n",
        "        \n",
        "    if(np.abs(U_xa-U_xb) > ep):\n",
        "        k = k + 1\n",
        "        it = it + 1\n",
        "        \n",
        "        reg.append([it, xa, U_xa])\n",
        "        print(\"It: {:02d} - Temp: {:.10f} - Costo: {:.10f}\".format(it, xa, U_xa))\n",
        "    \n",
        "        return Fibonacci(a, b, k, it, reg, L, n, fs, ep)\n",
        "    else:\n",
        "        print(\"-------------------------------------------------------\")\n",
        "        print(\"It: {:02d} - Temp: {:.10f} - Costo: {:.10f}\".format(it, xa, U_xa))\n",
        "        \n",
        "        return reg"
      ],
      "metadata": {
        "id": "2FyeV2eyW5_U"
      },
      "execution_count": null,
      "outputs": []
    },
    {
      "cell_type": "code",
      "source": [
        "def RunFibonacci():\n",
        "    n = 30\n",
        "    \n",
        "    fs = [1, 1]\n",
        "    for i in range(n):\n",
        "        aux = fs[-1] + fs[-2]\n",
        "        fs.append(aux)\n",
        "    \n",
        "    a, b, k = -5, 5, 2\n",
        "    L = b - a\n",
        "    \n",
        "    return Fibonacci(a, b, k, 0, [], b-a, n, fs, 1e-6)"
      ],
      "metadata": {
        "id": "psbcZGr8XPvK"
      },
      "execution_count": null,
      "outputs": []
    },
    {
      "cell_type": "code",
      "source": [
        "reg = RunFibonacci()"
      ],
      "metadata": {
        "colab": {
          "base_uri": "https://localhost:8080/"
        },
        "id": "FK4H18e8W6DA",
        "outputId": "0db363c7-c95a-4ad6-fe38-3e6b81cbe480"
      },
      "execution_count": null,
      "outputs": [
        {
          "output_type": "stream",
          "name": "stdout",
          "text": [
            "It: 01 - Temp: -1.1803398875 - Costo: 1.2420122373\n",
            "It: 02 - Temp: 1.1803398875 - Costo: -0.4347106976\n",
            "It: 03 - Temp: 0.2786404500 - Costo: 0.3800148338\n",
            "It: 04 - Temp: 1.1803398875 - Costo: -0.4347106976\n",
            "It: 05 - Temp: 1.7376207875 - Costo: -1.4752924898\n",
            "It: 06 - Temp: 1.5247584250 - Costo: -1.5084513878\n",
            "It: 07 - Temp: 1.3932022500 - Costo: -1.1850841385\n",
            "It: 08 - Temp: 1.5247584250 - Costo: -1.5084513878\n",
            "It: 09 - Temp: 1.6060646125 - Costo: -1.5956566237\n",
            "It: 10 - Temp: 1.5750084125 - Costo: -1.5748645050\n",
            "It: 11 - Temp: 1.6060646125 - Costo: -1.5956566237\n",
            "It: 12 - Temp: 1.6252584000 - Costo: -1.5999722110\n",
            "It: 13 - Temp: 1.6179270250 - Costo: -1.5991237881\n",
            "It: 14 - Temp: 1.6252584000 - Costo: -1.5999722110\n",
            "It: 15 - Temp: 1.6297894376 - Costo: -1.5999918435\n",
            "It: 16 - Temp: 1.6280587373 - Costo: -1.6000302505\n",
            "It: 17 - Temp: 1.6269891003 - Costo: -1.6000255743\n",
            "It: 18 - Temp: 1.6280587373 - Costo: -1.6000302505\n",
            "-------------------------------------------------------\n",
            "It: 18 - Temp: 1.6276501635 - Costo: -1.6000310217\n"
          ]
        }
      ]
    },
    {
      "cell_type": "code",
      "source": [
        "def Evaluacion(reg):\n",
        "    reg1 = np.array(reg)\n",
        "    fig, axs = plt.subplots(1,2, figsize=(15, 4))\n",
        "\n",
        "    fig.suptitle('Convergencia')\n",
        "\n",
        "    axs[0].axhline(55.08, color='k' , linewidth=3, linestyle='--')\n",
        "    axs[0].plot(reg1[:, 0], reg1[:,1], linewidth=4)\n",
        "    axs[0].set_xlabel('Iteraciones')\n",
        "    axs[0].set_ylabel('Temperatura')\n",
        "    axs[0].grid()\n",
        "    axs[0].set_xlim([0, 15])\n",
        "\n",
        "    axs[1].axhline(1225.17, color='k' , linewidth=3, linestyle='--')\n",
        "    axs[1].plot(reg1[:, 0], reg1[:,2], linewidth=4)\n",
        "    axs[1].set_xlabel('Iteraciones')\n",
        "    axs[1].set_ylabel('Costo')\n",
        "    axs[1].grid()\n",
        "    axs[1].set_xlim([0, 15])\n",
        "\n",
        "    plt.show()\n",
        "    \n",
        "    return None"
      ],
      "metadata": {
        "id": "iJ5GUrD9W6GM"
      },
      "execution_count": null,
      "outputs": []
    },
    {
      "cell_type": "code",
      "source": [
        "Evaluacion(reg)"
      ],
      "metadata": {
        "colab": {
          "base_uri": "https://localhost:8080/",
          "height": 308
        },
        "id": "7F2L9sVWW6cI",
        "outputId": "1f94eff7-c336-4bdc-81ba-0a33adbe0689"
      },
      "execution_count": null,
      "outputs": [
        {
          "output_type": "display_data",
          "data": {
            "text/plain": [
              "<Figure size 1080x288 with 2 Axes>"
            ],
            "image/png": "[encoded data removed]"
          },
          "metadata": {
            "needs_background": "light"
          }
        }
      ]
    }
  ]
}